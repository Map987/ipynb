!sudo apt-get update -y

!sudo apt-get install python3.9 python3.9-distutils python3.9-venv

!python3.9 --version

!python3.9 -m venv venv

!pip install ffmpeg


!pip install git+https://zotify.xyz/zotify/zotify.git


! python3.9 -m zotify https://open.spotify.com/track/4ffWXynHVrgsEJ8j63H5uf
